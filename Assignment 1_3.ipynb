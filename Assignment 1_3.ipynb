{
 "cells": [
  {
   "cell_type": "code",
   "execution_count": 4,
   "metadata": {},
   "outputs": [
    {
     "name": "stdout",
     "output_type": "stream",
     "text": [
      "Enter First Name:Donald\n",
      "Enter Last Name:Trump\n",
      "dlanoD pmurT\n"
     ]
    }
   ],
   "source": [
    "#Course: Data Science Masters\n",
    "#Title: Python - Session 1 - Assignment 1.3\n",
    "#Problem Statement: Python program to accept the user's first and last name and then getting them\n",
    "#                   printed in the the reverse order with a space between first name and last name.\n",
    "#Tool: Jupyter notebook \n",
    "#Author: Krishna A\n",
    "#Date: 5-2-2018 (DD/MM/YYYY)\n",
    "\n",
    "sFirstName = input(\"Enter First Name:\")\n",
    "sLastName = input(\"Enter Last Name:\")\n",
    "\n",
    "print(sFirstName[::-1] + \" \" + sLastName[::-1]) #[..-1] returns the string values from last to first character\n"
   ]
  },
  {
   "cell_type": "code",
   "execution_count": null,
   "metadata": {
    "collapsed": true
   },
   "outputs": [],
   "source": []
  }
 ],
 "metadata": {
  "kernelspec": {
   "display_name": "Python 3",
   "language": "python",
   "name": "python3"
  },
  "language_info": {
   "codemirror_mode": {
    "name": "ipython",
    "version": 3
   },
   "file_extension": ".py",
   "mimetype": "text/x-python",
   "name": "python",
   "nbconvert_exporter": "python",
   "pygments_lexer": "ipython3",
   "version": "3.6.3"
  }
 },
 "nbformat": 4,
 "nbformat_minor": 2
}
